{
 "cells": [
  {
   "cell_type": "code",
   "execution_count": 1,
   "metadata": {},
   "outputs": [
    {
     "name": "stdout",
     "output_type": "stream",
     "text": [
      "[{'station_id': 'ACW00011604', 'latitude': 17.1167, 'longitude': -61.7833, 'elevation': '10.1', 'location_name': 'ST JOHNS COOLIDGE FLD'}, {'station_id': 'ACW00011647', 'latitude': 17.1333, 'longitude': -61.7833, 'elevation': '19.2', 'location_name': 'ST JOHNS'}, {'station_id': 'AE000041196', 'latitude': 25.333, 'longitude': 55.517, 'elevation': '34.0', 'location_name': 'SHARJAH INTER. AIRP            GSN     41196'}, {'station_id': 'AEM00041194', 'latitude': 25.255, 'longitude': 55.364, 'elevation': '10.4', 'location_name': 'DUBAI INTL                             41194'}, {'station_id': 'AEM00041217', 'latitude': 24.433, 'longitude': 54.651, 'elevation': '26.8', 'location_name': 'ABU DHABI INTL                         41217'}]\n"
     ]
    }
   ],
   "source": [
    "# Load NOAA stations data from the text file\n",
    "stations = []\n",
    "file_path = r'C:\\Users\\HP\\OneDrive\\Desktop\\CEU Stuff\\Year 4\\DE 1\\TP2\\ghcnd-stations.txt'\n",
    "\n",
    "with open(file_path, 'r') as file:\n",
    "    for line in file:\n",
    "        # Parse the fixed-width format\n",
    "        station_id = line[0:11].strip()\n",
    "        latitude = float(line[12:20].strip())\n",
    "        longitude = float(line[21:30].strip())\n",
    "        elevation = line[31:37].strip()\n",
    "        location_name = line[38:].strip()\n",
    "\n",
    "        # Append to the list as a dictionary\n",
    "        stations.append({\n",
    "            'station_id': station_id,\n",
    "            'latitude': latitude,\n",
    "            'longitude': longitude,\n",
    "            'elevation': elevation,\n",
    "            'location_name': location_name\n",
    "        })\n",
    "\n",
    "# Display first few entries to verify parsing\n",
    "print(stations[:5])\n"
   ]
  },
  {
   "cell_type": "code",
   "execution_count": 2,
   "metadata": {},
   "outputs": [
    {
     "name": "stdout",
     "output_type": "stream",
     "text": [
      "Collecting geopy\n",
      "  Downloading geopy-2.4.1-py3-none-any.whl.metadata (6.8 kB)\n",
      "Collecting geographiclib<3,>=1.52 (from geopy)\n",
      "  Downloading geographiclib-2.0-py3-none-any.whl.metadata (1.4 kB)\n",
      "Downloading geopy-2.4.1-py3-none-any.whl (125 kB)\n",
      "   ---------------------------------------- 0.0/125.4 kB ? eta -:--:--\n",
      "   ------------ -------------------------- 41.0/125.4 kB 960.0 kB/s eta 0:00:01\n",
      "   ---------------------------------------- 125.4/125.4 kB 2.5 MB/s eta 0:00:00\n",
      "Downloading geographiclib-2.0-py3-none-any.whl (40 kB)\n",
      "   ---------------------------------------- 0.0/40.3 kB ? eta -:--:--\n",
      "   ---------------------------------------- 40.3/40.3 kB 1.9 MB/s eta 0:00:00\n",
      "Installing collected packages: geographiclib, geopy\n",
      "Successfully installed geographiclib-2.0 geopy-2.4.1\n"
     ]
    }
   ],
   "source": [
    "!pip install geopy\n"
   ]
  },
  {
   "cell_type": "code",
   "execution_count": 13,
   "metadata": {},
   "outputs": [
    {
     "ename": "SyntaxError",
     "evalue": "(unicode error) 'unicodeescape' codec can't decode bytes in position 149-150: truncated \\UXXXXXXXX escape (2261382826.py, line 33)",
     "output_type": "error",
     "traceback": [
      "\u001b[1;36m  Cell \u001b[1;32mIn[13], line 33\u001b[1;36m\u001b[0m\n\u001b[1;33m    ### Code is working, but i keep getting blocked. '''\u001b[0m\n\u001b[1;37m                                                        ^\u001b[0m\n\u001b[1;31mSyntaxError\u001b[0m\u001b[1;31m:\u001b[0m (unicode error) 'unicodeescape' codec can't decode bytes in position 149-150: truncated \\UXXXXXXXX escape\n"
     ]
    }
   ],
   "source": [
    "''' from geopy.geocoders import Nominatim\n",
    "import pandas as pd\n",
    "import time\n",
    "\n",
    "# Load your country_results_df CSV file\n",
    "country_results_df = pd.read_csv(r'C:\\Users\\HP\\OneDrive\\Desktop\\CEU Stuff\\Year 4\\DE 1\\TP2\\country_results_df.csv')\n",
    "\n",
    "# Initialize geocoder\n",
    "geolocator = Nominatim(user_agent=\"geoapiExercises\")\n",
    "\n",
    "# Function to get coordinates\n",
    "def get_coordinates(country):\n",
    "    try:\n",
    "        location = geolocator.geocode(country)\n",
    "        if location:\n",
    "            return location.latitude, location.longitude\n",
    "        else:\n",
    "            return None, None\n",
    "    except Exception as e:\n",
    "        print(f\"Error fetching coordinates for {country}: {e}\")\n",
    "        return None, None\n",
    "\n",
    "# Add latitude and longitude columns\n",
    "country_results_df['latitude'], country_results_df['longitude'] = zip(*country_results_df['country'].apply(get_coordinates))\n",
    "\n",
    "# Save the updated DataFrame to a new CSV file for later use\n",
    "country_results_df.to_csv('country_results_with_coordinates.csv', index=False)\n",
    "\n",
    "# Display the first few rows to confirm\n",
    "print(country_results_df.head())\n",
    "\n",
    "\n",
    "### Code is working, but i keep getting blocked. '''"
   ]
  },
  {
   "cell_type": "code",
   "execution_count": null,
   "metadata": {},
   "outputs": [
    {
     "name": "stdout",
     "output_type": "stream",
     "text": [
      "   year                     country  team_size_all  team_size_male  \\\n",
      "0  2024    United States of America              6             5.0   \n",
      "1  2024  People's Republic of China              6             6.0   \n",
      "2  2024           Republic of Korea              6             6.0   \n",
      "3  2024                       India              6             6.0   \n",
      "4  2024                     Belarus              6             6.0   \n",
      "\n",
      "   team_size_female    p1    p2    p3    p4    p5    p6  p7  awards_gold  \\\n",
      "0               1.0  42.0  41.0  19.0  40.0  35.0  15.0 NaN          5.0   \n",
      "1               0.0  42.0  42.0  31.0  40.0  22.0  13.0 NaN          5.0   \n",
      "2               0.0  42.0  37.0  18.0  42.0   7.0  22.0 NaN          2.0   \n",
      "3               0.0  42.0  34.0  11.0  42.0  28.0  10.0 NaN          4.0   \n",
      "4               0.0  42.0  30.0  10.0  42.0  36.0   5.0 NaN          4.0   \n",
      "\n",
      "   awards_silver  awards_bronze  awards_honorable_mentions  \\\n",
      "0            1.0            0.0                        0.0   \n",
      "1            1.0            0.0                        0.0   \n",
      "2            4.0            0.0                        0.0   \n",
      "3            1.0            0.0                        1.0   \n",
      "4            0.0            2.0                        0.0   \n",
      "\n",
      "                     leader     deputy_leader  \\\n",
      "0               John Berman  Carl Schildkraut   \n",
      "1                Liang Xiao         Yijun Yao   \n",
      "2              Suyoung Choi       Hwajong Yoo   \n",
      "3  Krishnan Sivasubramanian       Rijul Saini   \n",
      "4            David Zmiaikou   Dzmitry Bazyleu   \n",
      "\n",
      "                                           longitude  \\\n",
      "0  [[[-155.6065189699999, 20.137955566000144], [-...   \n",
      "1                                                NaN   \n",
      "2                                                NaN   \n",
      "3  [[[93.85531660200016, 7.214178778000104], [93....   \n",
      "4  [[[28.148906697000115, 56.14241404300009], [28...   \n",
      "\n",
      "                                            latitude  \n",
      "0  [[[-156.53412841099995, 20.53178747600019], [-...  \n",
      "1                                                NaN  \n",
      "2                                                NaN  \n",
      "3  [[[93.64421634200019, 7.257513739000089], [93....  \n",
      "4                                               None  \n"
     ]
    }
   ],
   "source": [
    "### had to \n",
    "\n",
    "\n",
    "import pandas as pd\n",
    "import json\n",
    "\n",
    "# Load your main country results dataset\n",
    "country_results_df = pd.read_csv(r'C:\\Users\\HP\\OneDrive\\Desktop\\CEU Stuff\\Year 4\\DE 1\\TP2\\country_results_df.csv')\n",
    "\n",
    "# Load the JSON file with country coordinates\n",
    "with open(r'C:\\Users\\HP\\OneDrive\\Desktop\\CEU Stuff\\Year 4\\DE 1\\TP2\\countries.geojson') as f:\n",
    "    country_data = json.load(f)\n",
    "\n",
    "\n",
    "# Convert JSON data into a DataFrame\n",
    "country_coords_df = pd.json_normalize(country_data['features'])\n",
    "\n",
    "# Extract relevant columns from the DataFrame\n",
    "country_coords_df = country_coords_df[['properties.ADMIN', 'geometry.coordinates']]\n",
    "country_coords_df.columns = ['country', 'coordinates']\n",
    "\n",
    "# Split the coordinates into separate latitude and longitude columns\n",
    "country_coords_df['longitude'] = country_coords_df['coordinates'].apply(lambda x: x[0] if isinstance(x, list) and len(x) > 0 else None)\n",
    "country_coords_df['latitude'] = country_coords_df['coordinates'].apply(lambda x: x[1] if isinstance(x, list) and len(x) > 1 else None)\n",
    "\n",
    "# Drop the 'coordinates' column as it's no longer needed\n",
    "country_coords_df.drop(columns=['coordinates'], inplace=True)\n",
    "\n",
    "# Merge the country coordinates with the main dataset\n",
    "country_results_with_coords = pd.merge(country_results_df, country_coords_df, left_on='country', right_on='country', how='left')\n",
    "\n",
    "# Save to a new CSV file to use in the next steps\n",
    "country_results_with_coords.to_csv('country_results_with_coordinates.csv', index=False)\n",
    "\n",
    "# Display the first few rows to confirm\n",
    "print(country_results_with_coords.head())\n"
   ]
  },
  {
   "cell_type": "code",
   "execution_count": 15,
   "metadata": {},
   "outputs": [
    {
     "name": "stdout",
     "output_type": "stream",
     "text": [
      "Index(['country', 'longitude', 'latitude'], dtype='object')\n",
      "       country                                          longitude  \\\n",
      "0        Aruba  [[[-69.99693762899992, 12.577582098000036], [-...   \n",
      "1  Afghanistan  [[[71.04980228700009, 38.40866445000009], [71....   \n",
      "2       Angola  [[[11.73751945100014, -16.692577982999836], [1...   \n",
      "3     Anguilla  [[[-63.037668423999946, 18.21295807500003], [-...   \n",
      "4      Albania  [[[19.747765747000074, 42.57890085900007], [19...   \n",
      "\n",
      "                                            latitude  \n",
      "0                                               None  \n",
      "1                                               None  \n",
      "2  [[[13.98232954900007, -5.853285013999837], [14...  \n",
      "3  [[[-63.42357337099986, 18.60004303600006], [-6...  \n",
      "4                                               None  \n"
     ]
    }
   ],
   "source": [
    "# Inspect the JSON structure after normalization\n",
    "print(country_coords_df.columns)\n",
    "print(country_coords_df.head())\n"
   ]
  },
  {
   "cell_type": "code",
   "execution_count": 17,
   "metadata": {},
   "outputs": [
    {
     "name": "stdout",
     "output_type": "stream",
     "text": [
      "   year                     country  team_size_all  team_size_male  \\\n",
      "0  2024    United States of America              6             5.0   \n",
      "1  2024  People's Republic of China              6             6.0   \n",
      "2  2024           Republic of Korea              6             6.0   \n",
      "3  2024                       India              6             6.0   \n",
      "4  2024                     Belarus              6             6.0   \n",
      "\n",
      "   team_size_female    p1    p2    p3    p4    p5    p6  p7  awards_gold  \\\n",
      "0               1.0  42.0  41.0  19.0  40.0  35.0  15.0 NaN          5.0   \n",
      "1               0.0  42.0  42.0  31.0  40.0  22.0  13.0 NaN          5.0   \n",
      "2               0.0  42.0  37.0  18.0  42.0   7.0  22.0 NaN          2.0   \n",
      "3               0.0  42.0  34.0  11.0  42.0  28.0  10.0 NaN          4.0   \n",
      "4               0.0  42.0  30.0  10.0  42.0  36.0   5.0 NaN          4.0   \n",
      "\n",
      "   awards_silver  awards_bronze  awards_honorable_mentions  \\\n",
      "0            1.0            0.0                        0.0   \n",
      "1            1.0            0.0                        0.0   \n",
      "2            4.0            0.0                        0.0   \n",
      "3            1.0            0.0                        1.0   \n",
      "4            0.0            2.0                        0.0   \n",
      "\n",
      "                     leader     deputy_leader   longitude    latitude  \n",
      "0               John Berman  Carl Schildkraut -155.606519 -156.544555  \n",
      "1                Liang Xiao         Yijun Yao         NaN         NaN  \n",
      "2              Suyoung Choi       Hwajong Yoo         NaN         NaN  \n",
      "3  Krishnan Sivasubramanian       Rijul Saini   93.855317   93.628184  \n",
      "4            David Zmiaikou   Dzmitry Bazyleu   28.148907         NaN  \n"
     ]
    }
   ],
   "source": [
    "# Define a function to extract only the first element if the list is nested\n",
    "def extract_first_coordinate(coord):\n",
    "    if isinstance(coord, list):\n",
    "        # If it's a list of lists (e.g., boundaries), take the first element of the first sublist\n",
    "        if isinstance(coord[0], list):\n",
    "            return coord[0][0]  # For longitude\n",
    "        elif len(coord) >= 1:\n",
    "            return coord[0]  # For a single value list (flattened longitude or latitude)\n",
    "    return None\n",
    "\n",
    "# Apply the extraction function separately for longitude and latitude\n",
    "country_coords_df['longitude'] = country_coords_df['longitude'].apply(lambda x: extract_first_coordinate(x))\n",
    "country_coords_df['latitude'] = country_coords_df['latitude'].apply(lambda x: extract_first_coordinate(x))\n",
    "\n",
    "# Merge the country coordinates with the main dataset\n",
    "country_results_with_coords = pd.merge(country_results_df, country_coords_df, left_on='country', right_on='country', how='left')\n",
    "\n",
    "# Save to a new CSV file to use in the next steps\n",
    "country_results_with_coords.to_csv('country_results_with_coordinates.csv', index=False)\n",
    "\n",
    "# Display the first few rows to confirm\n",
    "print(country_results_with_coords.head())\n"
   ]
  },
  {
   "cell_type": "code",
   "execution_count": 20,
   "metadata": {},
   "outputs": [
    {
     "name": "stdout",
     "output_type": "stream",
     "text": [
      "   year                     country  team_size_all  team_size_male  \\\n",
      "0  2024    United States of America              6             5.0   \n",
      "1  2024  People's Republic of China              6             6.0   \n",
      "2  2024           Republic of Korea              6             6.0   \n",
      "3  2024                       India              6             6.0   \n",
      "4  2024                     Belarus              6             6.0   \n",
      "\n",
      "   team_size_female    p1    p2    p3    p4    p5  ...  awards_gold  \\\n",
      "0               1.0  42.0  41.0  19.0  40.0  35.0  ...          5.0   \n",
      "1               0.0  42.0  42.0  31.0  40.0  22.0  ...          5.0   \n",
      "2               0.0  42.0  37.0  18.0  42.0   7.0  ...          2.0   \n",
      "3               0.0  42.0  34.0  11.0  42.0  28.0  ...          4.0   \n",
      "4               0.0  42.0  30.0  10.0  42.0  36.0  ...          4.0   \n",
      "\n",
      "   awards_silver  awards_bronze  awards_honorable_mentions  \\\n",
      "0            1.0            0.0                        0.0   \n",
      "1            1.0            0.0                        0.0   \n",
      "2            4.0            0.0                        0.0   \n",
      "3            1.0            0.0                        1.0   \n",
      "4            0.0            2.0                        0.0   \n",
      "\n",
      "                     leader     deputy_leader   longitude    latitude  \\\n",
      "0               John Berman  Carl Schildkraut -155.606519 -156.544555   \n",
      "1                Liang Xiao         Yijun Yao         NaN         NaN   \n",
      "2              Suyoung Choi       Hwajong Yoo         NaN         NaN   \n",
      "3  Krishnan Sivasubramanian       Rijul Saini   93.855317   93.628184   \n",
      "4            David Zmiaikou   Dzmitry Bazyleu   28.148907         NaN   \n",
      "\n",
      "   nearest_station_id  distance_to_station_km  \n",
      "0                None                     NaN  \n",
      "1                None                     NaN  \n",
      "2                None                     NaN  \n",
      "3                None                     NaN  \n",
      "4                None                     NaN  \n",
      "\n",
      "[5 rows x 22 columns]\n"
     ]
    }
   ],
   "source": [
    "import pandas as pd\n",
    "from geopy.distance import geodesic\n",
    "\n",
    "# Reload stations data if necessary\n",
    "stations = []\n",
    "file_path = r'C:\\Users\\HP\\OneDrive\\Desktop\\CEU Stuff\\Year 4\\DE 1\\TP2\\ghcnd-stations.txt'\n",
    "\n",
    "with open(file_path, 'r') as file:\n",
    "    for line in file:\n",
    "        station_id = line[0:11].strip()\n",
    "        latitude = float(line[12:20].strip())\n",
    "        longitude = float(line[21:30].strip())\n",
    "        location_name = line[38:].strip()\n",
    "        \n",
    "        stations.append({\n",
    "            'station_id': station_id,\n",
    "            'latitude': latitude,\n",
    "            'longitude': longitude,\n",
    "            'location_name': location_name\n",
    "        })\n",
    "\n",
    "stations_df = pd.DataFrame(stations)\n",
    "\n",
    "# Load your country data with coordinates\n",
    "country_results_with_coords = pd.read_csv('country_results_with_coordinates.csv')\n",
    "\n",
    "# Function to find the nearest station using a range filter to limit comparisons\n",
    "def find_nearest_station_optimized(country_lat, country_lon, stations_df, range_km=500):\n",
    "    min_distance = float('inf')\n",
    "    nearest_station = None\n",
    "    \n",
    "    # Filter stations within a rough bounding box (range in degrees is approx for small distances)\n",
    "    station_subset = stations_df[\n",
    "        (stations_df['latitude'] >= country_lat - 5) & (stations_df['latitude'] <= country_lat + 5) &\n",
    "        (stations_df['longitude'] >= country_lon - 5) & (stations_df['longitude'] <= country_lon + 5)\n",
    "    ]\n",
    "    \n",
    "    # Calculate the distance only within this subset\n",
    "    for _, station in station_subset.iterrows():\n",
    "        station_coords = (station['latitude'], station['longitude'])\n",
    "        country_coords = (country_lat, country_lon)\n",
    "        \n",
    "        # Calculate the distance\n",
    "        distance = geodesic(country_coords, station_coords).kilometers\n",
    "        \n",
    "        # Update if this station is closer\n",
    "        if distance < min_distance:\n",
    "            min_distance = distance\n",
    "            nearest_station = station['station_id']\n",
    "    \n",
    "    return nearest_station, min_distance\n",
    "\n",
    "# Apply the optimized function to each row in the country DataFrame\n",
    "nearest_stations = country_results_with_coords.apply(\n",
    "    lambda row: find_nearest_station_optimized(row['latitude'], row['longitude'], stations_df)\n",
    "    if pd.notnull(row['latitude']) and pd.notnull(row['longitude']) and \n",
    "       -90 <= row['latitude'] <= 90 and -180 <= row['longitude'] <= 180\n",
    "    else (None, None),\n",
    "    axis=1\n",
    ")\n",
    "\n",
    "# Split the results into separate columns\n",
    "country_results_with_coords['nearest_station_id'], country_results_with_coords['distance_to_station_km'] = zip(*nearest_stations)\n",
    "\n",
    "# Save the final DataFrame with nearest station info\n",
    "country_results_with_coords.to_csv('country_results_with_nearest_stations.csv', index=False)\n",
    "\n",
    "# Display the first few rows to confirm\n",
    "print(country_results_with_coords.head())\n"
   ]
  },
  {
   "cell_type": "code",
   "execution_count": 21,
   "metadata": {},
   "outputs": [
    {
     "name": "stdout",
     "output_type": "stream",
     "text": [
      "                      country   longitude    latitude\n",
      "0    United States of America -155.606519 -156.544555\n",
      "1  People's Republic of China         NaN         NaN\n",
      "2           Republic of Korea         NaN         NaN\n",
      "3                       India   93.855317   93.628184\n",
      "4                     Belarus   28.148907         NaN\n",
      "5                   Singapore  103.960785         NaN\n",
      "6              United Kingdom   -6.287506   -6.332509\n",
      "7                     Hungary   20.981489         NaN\n",
      "8                      Poland   19.002126         NaN\n",
      "9                     Türkiye         NaN         NaN\n"
     ]
    }
   ],
   "source": [
    "print(country_results_with_coords[['country', 'longitude', 'latitude']].head(10))\n"
   ]
  },
  {
   "cell_type": "code",
   "execution_count": 22,
   "metadata": {},
   "outputs": [
    {
     "name": "stdout",
     "output_type": "stream",
     "text": [
      "    station_id  latitude  longitude\n",
      "0  ACW00011604   17.1167   -61.7833\n",
      "1  ACW00011647   17.1333   -61.7833\n",
      "2  AE000041196   25.3330    55.5170\n",
      "3  AEM00041194   25.2550    55.3640\n",
      "4  AEM00041217   24.4330    54.6510\n",
      "5  AEM00041218   24.2620    55.6090\n",
      "6  AF000040930   35.3170    69.0170\n",
      "7  AFM00040938   34.2100    62.2280\n",
      "8  AFM00040948   34.5660    69.2120\n",
      "9  AFM00040990   31.5000    65.8500\n"
     ]
    }
   ],
   "source": [
    "print(stations_df[['station_id', 'latitude', 'longitude']].head(10))\n"
   ]
  },
  {
   "cell_type": "code",
   "execution_count": null,
   "metadata": {},
   "outputs": [],
   "source": []
  }
 ],
 "metadata": {
  "kernelspec": {
   "display_name": "base",
   "language": "python",
   "name": "python3"
  },
  "language_info": {
   "codemirror_mode": {
    "name": "ipython",
    "version": 3
   },
   "file_extension": ".py",
   "mimetype": "text/x-python",
   "name": "python",
   "nbconvert_exporter": "python",
   "pygments_lexer": "ipython3",
   "version": "3.11.7"
  }
 },
 "nbformat": 4,
 "nbformat_minor": 2
}
